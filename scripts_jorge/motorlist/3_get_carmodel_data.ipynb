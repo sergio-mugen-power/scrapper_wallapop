{
 "cells": [
  {
   "cell_type": "code",
   "execution_count": null,
   "metadata": {},
   "outputs": [],
   "source": [
    "import json\n",
    "import os\n",
    "import pandas as pd\n",
    "import numpy as np\n",
    "import re\n",
    "from openai import OpenAI\n",
    "from dotenv import load_dotenv\n",
    "import ast\n",
    "import time\n",
    "\n",
    "current_dir = os.getcwd()\n",
    "parent_dir = os.path.join(current_dir, os.pardir, os.pardir)\n",
    "parent_dir = os.path.abspath(parent_dir)\n",
    "\n",
    "bronze_dir = os.path.join(parent_dir, 'datasets', 'motorlist', '2_bronze')\n",
    "bronze_files = os.listdir(bronze_dir)\n",
    "silver_dir = os.path.join(parent_dir, 'datasets', 'motorlist', '3_silver')\n",
    "silver_files = os.listdir(silver_dir)"
   ]
  },
  {
   "cell_type": "code",
   "execution_count": 25,
   "metadata": {},
   "outputs": [],
   "source": [
    "# Cargar las variables de entorno desde el archivo .env\n",
    "load_dotenv()\n",
    "\n",
    "# Obtener la clave de API desde las variables de entorno\n",
    "api_key = os.getenv(\"OPENAI_API_KEY\")"
   ]
  },
  {
   "cell_type": "code",
   "execution_count": 36,
   "metadata": {},
   "outputs": [],
   "source": [
    "client = OpenAI(api_key=api_key)\n",
    "\n",
    "def extract_car_info(description):\n",
    "    \"\"\"Envía la descripción al modelo para extraer información sobre coches y años.\"\"\"\n",
    "    try:\n",
    "        response = client.chat.completions.create(\n",
    "            model=\"gpt-4o-mini\",  # Puedes cambiar el modelo según lo que necesites\n",
    "            messages=[\n",
    "                {\"role\": \"system\", \"content\": \"Extract car models and years from descriptions. Return them as a list of tuples.\"},\n",
    "                {\"role\": \"user\", \"content\": f\"Extract the car models and years from the following description: {description}. Return the information as a list of tuples: [(car_model, car_year)] if there is a list of years, return one tuple for each year. I only want you to return the list of tuples, nothing else.\"}\n",
    "            ]\n",
    "        )\n",
    "        # Extraemos la respuesta del modelo\n",
    "        car_info = response.choices[0].message.content\n",
    "        return car_info\n",
    "    except Exception as e:\n",
    "        print(f\"Error al procesar la descripción: {e}\")\n",
    "        return None"
   ]
  },
  {
   "cell_type": "code",
   "execution_count": 83,
   "metadata": {},
   "outputs": [],
   "source": [
    "errors = []\n",
    "\n",
    "def process_file(file, bronze_dir, silver_dir):\n",
    "    with open(os.path.join(bronze_dir, file), 'r', encoding=\"utf-8\") as f:\n",
    "        data = json.load(f)\n",
    "        description = data['description']\n",
    "        car_info = extract_car_info(description)\n",
    "\n",
    "        if car_info is None:\n",
    "            errors.append(file)\n",
    "        else:\n",
    "            car_info = car_info.replace(\"‘\", \"'\").replace(\"’\", \"'\")\n",
    "            car_info = car_info.replace(\"“\", ''').replace(\"”\", ''')\n",
    "            car_info = ast.literal_eval(car_info)\n",
    "            data['car_info'] = car_info\n",
    "\n",
    "        # Write back the changes to the file in the silver folder\n",
    "        with open(os.path.join(silver_dir, file), 'w', encoding='utf-8') as silver_file:\n",
    "            json.dump(data, silver_file, indent=4, ensure_ascii=False)"
   ]
  },
  {
   "cell_type": "code",
   "execution_count": 84,
   "metadata": {},
   "outputs": [
    {
     "name": "stdout",
     "output_type": "stream",
     "text": [
      "Error al procesar la descripción: Request timed out.\n",
      "Error al procesar la descripción: Request timed out.\n",
      "Error al procesar la descripción: Request timed out.\n",
      "Reintentando procesar los archivos fallidos: ['Engine Toyota 1JZ-GTE.json', 'Engine Toyota 1KR-DE.json', 'Engine Toyota 1KR-FE.json']\n",
      "Todos los archivos procesados correctamente, errores restantes: []\n"
     ]
    }
   ],
   "source": [
    "# Bucle para procesar todos los archivos\n",
    "for file in bronze_files[1154:]:\n",
    "    process_file(file, bronze_dir, silver_dir)\n",
    "\n",
    "# Bucle para reintentar los archivos que fallaron debido a un \"Request timed out\"\n",
    "while errors:\n",
    "    print(f\"Reintentando procesar los archivos fallidos: {errors}\")\n",
    "    \n",
    "    # Reintentar el procesamiento de los archivos con error\n",
    "    for file in errors[:]:\n",
    "        try:\n",
    "            process_file(file, bronze_dir, silver_dir)\n",
    "            errors.remove(file)  # Eliminar el archivo de la lista de errores si fue procesado exitosamente\n",
    "        except Exception as e:\n",
    "            print(f\"Error procesando {file}: {e}\")\n",
    "            time.sleep(5)  # Pausar 5 segundos antes de intentar de nuevo\n",
    "    \n",
    "    # Si los archivos siguen fallando, puedes aumentar el tiempo de espera para no sobrecargar la API\n",
    "    if errors:\n",
    "        print(f\"Aún hay archivos con errores. Reintentando en 30 segundos...\")\n",
    "        time.sleep(30)\n",
    "\n",
    "# Finalmente, si todos los archivos se procesaron, la lista de errores estará vacía\n",
    "print(\"Todos los archivos procesados correctamente, errores restantes:\", errors)"
   ]
  }
 ],
 "metadata": {
  "kernelspec": {
   "display_name": "Python 3",
   "language": "python",
   "name": "python3"
  },
  "language_info": {
   "codemirror_mode": {
    "name": "ipython",
    "version": 3
   },
   "file_extension": ".py",
   "mimetype": "text/x-python",
   "name": "python",
   "nbconvert_exporter": "python",
   "pygments_lexer": "ipython3",
   "version": "3.13.0"
  }
 },
 "nbformat": 4,
 "nbformat_minor": 2
}
